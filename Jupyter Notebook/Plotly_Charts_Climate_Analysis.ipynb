{
 "cells": [
  {
   "cell_type": "code",
   "execution_count": null,
   "metadata": {},
   "outputs": [],
   "source": [
    "import pandas as pd \n",
    "import numpy as np \n",
    "\n",
    "\n",
    "##charting##\n",
    "import matplotlib.pyplot as plt\n",
    "%matplotlib inline\n",
    "from matplotlib import style\n",
    "style.use('fivethirtyeight')\n",
    "import matplotlib.mlab as mlab\n",
    "import seaborn as sns\n",
    "import seaborn as sns\n",
    "import csv\n",
    "\n",
    "#plotly libraries\n",
    "import plotly as py\n",
    "import plotly.graph_objs as go\n",
    "\n",
    "py.offline.init_notebook_mode(connected=True)"
   ]
  },
  {
   "cell_type": "markdown",
   "metadata": {},
   "source": [
    "### Climate Analysis\n",
    "\n",
    "1. Water Quality: "
   ]
  },
  {
   "cell_type": "code",
   "execution_count": null,
   "metadata": {},
   "outputs": [],
   "source": [
    "#import csv \n",
    "endangered_species_df = pd.read_csv('../Resources/endangered_species_data.csv', delimiter = ',')\n",
    "water_quality_df = pd.read_csv('../Resources/water_quality_data.csv', delimiter = ',')\n",
    "waste_treatment_df = pd.read_csv('../Resources/waste_treatment_data.csv', delimiter = ',')\n",
    "air_quality_df = pd.read_csv('../Resources/air_quality_data.csv', delimiter = ',')\n",
    "country_code_df = pd.read_csv('../Resources/Unique_Country_Code.csv', delimiter = ',')\n"
   ]
  }
 ],
 "metadata": {
  "kernelspec": {
   "display_name": "Python 3",
   "language": "python",
   "name": "python3"
  },
  "language_info": {
   "codemirror_mode": {
    "name": "ipython",
    "version": 3
   },
   "file_extension": ".py",
   "mimetype": "text/x-python",
   "name": "python",
   "nbconvert_exporter": "python",
   "pygments_lexer": "ipython3",
   "version": "3.7.3"
  }
 },
 "nbformat": 4,
 "nbformat_minor": 2
}
